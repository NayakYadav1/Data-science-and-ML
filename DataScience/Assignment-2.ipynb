{
 "cells": [
  {
   "cell_type": "code",
   "execution_count": 1,
   "id": "84ad6040-e47b-44f8-8d74-0f682c5b270f",
   "metadata": {},
   "outputs": [],
   "source": [
    "import numpy as np"
   ]
  },
  {
   "cell_type": "code",
   "execution_count": 5,
   "id": "4ddc087f-45a4-43a4-b5e0-f664dc79707d",
   "metadata": {},
   "outputs": [],
   "source": [
    "list = [1, 2, 3, 4, 5, 6, 7, 8, 9 , 10]"
   ]
  },
  {
   "cell_type": "code",
   "execution_count": 9,
   "id": "5f954956-c09f-4aad-88ad-df78b5dca0d8",
   "metadata": {},
   "outputs": [
    {
     "name": "stdout",
     "output_type": "stream",
     "text": [
      "[ 1  2  3  4  5  6  7  8  9 10]\n"
     ]
    }
   ],
   "source": [
    "a = np.array(list)\n",
    "print(a)"
   ]
  },
  {
   "cell_type": "code",
   "execution_count": 17,
   "id": "f482debb-3087-4639-8c54-97423b3c55bc",
   "metadata": {},
   "outputs": [
    {
     "data": {
      "text/plain": [
       "array([[-0.78147366,  0.52179917, -0.78754549,  0.75478007],\n",
       "       [ 0.39072314,  0.56186989, -1.84937898, -0.75861416],\n",
       "       [-1.25515149, -0.02182218,  0.42533083, -0.34818935]])"
      ]
     },
     "execution_count": 17,
     "metadata": {},
     "output_type": "execute_result"
    }
   ],
   "source": [
    "b = np.random.randn(3, 4)\n",
    "b"
   ]
  },
  {
   "cell_type": "code",
   "execution_count": 45,
   "id": "474e1af3-9d21-4b2d-bebd-06ac40007fd6",
   "metadata": {},
   "outputs": [
    {
     "data": {
      "text/plain": [
       "array([[[0., 0., 0., 0.],\n",
       "        [0., 0., 0., 0.],\n",
       "        [0., 0., 0., 0.]],\n",
       "\n",
       "       [[0., 0., 0., 0.],\n",
       "        [0., 0., 0., 0.],\n",
       "        [0., 0., 0., 0.]]])"
      ]
     },
     "execution_count": 45,
     "metadata": {},
     "output_type": "execute_result"
    }
   ],
   "source": [
    "c = np.zeros((2, 3, 4))\n",
    "c"
   ]
  },
  {
   "cell_type": "code",
   "execution_count": 57,
   "id": "491cf46d-3cc0-493f-a4ff-1f0a1e486e8f",
   "metadata": {},
   "outputs": [
    {
     "data": {
      "text/plain": [
       "array([ 7,  9, 11, 13, 15])"
      ]
     },
     "execution_count": 57,
     "metadata": {},
     "output_type": "execute_result"
    }
   ],
   "source": [
    "# Element wise operations\n",
    "a = [1, 2, 3, 4, 5]\n",
    "b = [6, 7, 8, 9, 10]\n",
    "c = np.array(a) + np.array(b)\n",
    "c"
   ]
  },
  {
   "cell_type": "code",
   "execution_count": 61,
   "id": "6c9c2bb5-a646-45ca-865b-639987bc9720",
   "metadata": {},
   "outputs": [
    {
     "data": {
      "text/plain": [
       "array([-5, -5, -5, -5, -5])"
      ]
     },
     "execution_count": 61,
     "metadata": {},
     "output_type": "execute_result"
    }
   ],
   "source": [
    "d = np.array(a) - np.array(b)\n",
    "d"
   ]
  },
  {
   "cell_type": "code",
   "execution_count": 65,
   "id": "90cdb8a9-2f09-4745-84ad-daae18a1ff39",
   "metadata": {},
   "outputs": [
    {
     "data": {
      "text/plain": [
       "array([ 6, 14, 24, 36, 50])"
      ]
     },
     "execution_count": 65,
     "metadata": {},
     "output_type": "execute_result"
    }
   ],
   "source": [
    "e = np.array(a) * np.array(b)\n",
    "e"
   ]
  },
  {
   "cell_type": "code",
   "execution_count": 69,
   "id": "c79f0e0e-c758-48bc-8233-89bdd5d4a288",
   "metadata": {},
   "outputs": [
    {
     "data": {
      "text/plain": [
       "array([0.16666667, 0.28571429, 0.375     , 0.44444444, 0.5       ])"
      ]
     },
     "execution_count": 69,
     "metadata": {},
     "output_type": "execute_result"
    }
   ],
   "source": [
    "f = np.array(a) / np.array(b)\n",
    "f"
   ]
  },
  {
   "cell_type": "code",
   "execution_count": 73,
   "id": "53154fe3-358f-4aec-83b0-d816ae854d22",
   "metadata": {},
   "outputs": [
    {
     "data": {
      "text/plain": [
       "3.0"
      ]
     },
     "execution_count": 73,
     "metadata": {},
     "output_type": "execute_result"
    }
   ],
   "source": [
    "# Calculating mean, median, standard deviation\n",
    "list = [1, 2, 3, 4, 5]\n",
    "a = np.array(list)\n",
    "mean = np.mean(a)\n",
    "mean"
   ]
  },
  {
   "cell_type": "code",
   "execution_count": 77,
   "id": "b45ca66b-42a7-4c4d-bb2d-bce57564b0ae",
   "metadata": {},
   "outputs": [
    {
     "data": {
      "text/plain": [
       "3.0"
      ]
     },
     "execution_count": 77,
     "metadata": {},
     "output_type": "execute_result"
    }
   ],
   "source": [
    "median = np.median(a)\n",
    "median"
   ]
  },
  {
   "cell_type": "code",
   "execution_count": 81,
   "id": "9ac95f19-b772-4d19-a0b6-f6cc40b73085",
   "metadata": {},
   "outputs": [
    {
     "data": {
      "text/plain": [
       "1.4142135623730951"
      ]
     },
     "execution_count": 81,
     "metadata": {},
     "output_type": "execute_result"
    }
   ],
   "source": [
    "std = np.std(a)\n",
    "std"
   ]
  },
  {
   "cell_type": "code",
   "execution_count": 91,
   "id": "2e2b1fca-f5a5-46ea-a790-6801630e5474",
   "metadata": {},
   "outputs": [
    {
     "data": {
      "text/plain": [
       "array([[ 1,  2,  3,  4],\n",
       "       [ 5,  6,  7,  8],\n",
       "       [ 9, 10, 11, 12]])"
      ]
     },
     "execution_count": 91,
     "metadata": {},
     "output_type": "execute_result"
    }
   ],
   "source": [
    "# Arranging 1d array in 2d array of shape (3, 4)\n",
    "list = [1, 2, 3, 4, 5, 6, 7, 8, 9, 10, 11, 12]\n",
    "arr = np.array(list)\n",
    "array_2D = arr.reshape(3, 4)\n",
    "array_2D"
   ]
  },
  {
   "cell_type": "code",
   "execution_count": 111,
   "id": "a43b5879-2aa5-4655-aa51-ff4343387c18",
   "metadata": {},
   "outputs": [
    {
     "data": {
      "text/plain": [
       "array([1, 2, 3])"
      ]
     },
     "execution_count": 111,
     "metadata": {},
     "output_type": "execute_result"
    }
   ],
   "source": [
    "# Array Indexing and Slicing\n",
    "# abstracting first row and last column of 2D array\n",
    "arr = [[1, 2, 3], [4, 5, 6], [7, 8, 9]]\n",
    "arr_2D = np.array(arr)\n",
    "# first row \n",
    "arr_2D[0]"
   ]
  },
  {
   "cell_type": "code",
   "execution_count": 115,
   "id": "18486d36-cef2-4956-bc2b-d3042c3d9022",
   "metadata": {},
   "outputs": [
    {
     "name": "stdout",
     "output_type": "stream",
     "text": [
      "[3 6 9]\n"
     ]
    }
   ],
   "source": [
    "# last column\n",
    "last_column = arr_2D[:, -1]\n",
    "print(last_column)"
   ]
  },
  {
   "cell_type": "code",
   "execution_count": 123,
   "id": "5604244f-97b3-41d0-86a2-0d877c8635d8",
   "metadata": {},
   "outputs": [
    {
     "data": {
      "text/plain": [
       "array([8, 7, 6, 5, 4, 3, 2, 1])"
      ]
     },
     "execution_count": 123,
     "metadata": {},
     "output_type": "execute_result"
    }
   ],
   "source": [
    "# Reverse the order of element in 1D array\n",
    "list = [1, 2, 3, 4, 5, 6, 7, 8]\n",
    "arr = np.array(list)\n",
    "rev = np.flip(arr)\n",
    "rev"
   ]
  },
  {
   "cell_type": "code",
   "execution_count": 137,
   "id": "d8e5dd62-7c90-481a-99af-177fc6ab72d5",
   "metadata": {},
   "outputs": [
    {
     "name": "stdout",
     "output_type": "stream",
     "text": [
      "[6 7 8]\n"
     ]
    }
   ],
   "source": [
    "# Selecting element from 2D array that specify certain threshold\n",
    "list = [[1, 2, 3, 4], [5, 6, 7, 8]]\n",
    "Two = np.array(list)\n",
    "element_gt_2 = Two[Two > 5]\n",
    "print(element_gt_2)"
   ]
  },
  {
   "cell_type": "code",
   "execution_count": 141,
   "id": "4387e373-f09b-48c7-8ed5-0d35b4801e4c",
   "metadata": {},
   "outputs": [
    {
     "data": {
      "text/plain": [
       "array([[3, 4, 5],\n",
       "       [6, 7, 8]])"
      ]
     },
     "execution_count": 141,
     "metadata": {},
     "output_type": "execute_result"
    }
   ],
   "source": [
    "# Array Broadcasting\n",
    "# Adding scalar value to each element\n",
    "two = [[1, 2, 3], [4, 5, 6]]\n",
    "arr_2D = np.array(two)\n",
    "scalar_value = arr_2D + 2\n",
    "scalar_value"
   ]
  },
  {
   "cell_type": "code",
   "execution_count": 149,
   "id": "06b5eced-44af-49eb-9df0-289736a38566",
   "metadata": {},
   "outputs": [
    {
     "data": {
      "text/plain": [
       "array([[ 4, 10, 18],\n",
       "       [ 7, 16, 27],\n",
       "       [10, 22, 36]])"
      ]
     },
     "execution_count": 149,
     "metadata": {},
     "output_type": "execute_result"
    }
   ],
   "source": [
    "# Multiplying 1D array with 2D array using broadcasting rule\n",
    "a = [1, 2, 3]\n",
    "one = np.array(a)\n",
    "b = [[4, 5, 6], [7, 8, 9], [10, 11, 12]]\n",
    "two = np.array(b)\n",
    "broadcasted_mul = one * two\n",
    "broadcasted_mul"
   ]
  },
  {
   "cell_type": "code",
   "execution_count": 153,
   "id": "22da9ba5-ac44-47b1-b5b8-9b5478a6cc0d",
   "metadata": {},
   "outputs": [
    {
     "data": {
      "text/plain": [
       "130"
      ]
     },
     "execution_count": 153,
     "metadata": {},
     "output_type": "execute_result"
    }
   ],
   "source": [
    "# Linear Algebra\n",
    "# dot product of two 1d array\n",
    "one = np.array([1, 2, 3, 4, 5])\n",
    "two = np.array([6, 7, 8, 9, 10])\n",
    "dot_product = np.dot(one, two)\n",
    "dot_product"
   ]
  },
  {
   "cell_type": "code",
   "execution_count": 159,
   "id": "935c67d0-11df-4bf9-8135-a76149f56558",
   "metadata": {},
   "outputs": [
    {
     "data": {
      "text/plain": [
       "array([[19, 22],\n",
       "       [43, 50]])"
      ]
     },
     "execution_count": 159,
     "metadata": {},
     "output_type": "execute_result"
    }
   ],
   "source": [
    "# Matrix Multipication of 2D array\n",
    "a = np.array([[1, 2], [3, 4]])\n",
    "b = np.array([[5, 6], [7, 8]])\n",
    "dot_mul_2D = np.dot(a, b)\n",
    "dot_mul_2D"
   ]
  },
  {
   "cell_type": "code",
   "execution_count": 177,
   "id": "f137686e-3bae-4929-8416-be865325e6e7",
   "metadata": {},
   "outputs": [
    {
     "data": {
      "text/plain": [
       "('The determinant of square matrix is:', 10.000000000000002)"
      ]
     },
     "execution_count": 177,
     "metadata": {},
     "output_type": "execute_result"
    }
   ],
   "source": [
    "# Inverse and Determinant of a square matrix\n",
    "a = np.array([[4, 7], [2, 6]])\n",
    "# calculate determinant\n",
    "determinant = np.linalg.det(a)\n",
    "('The determinant of square matrix is:', determinant)"
   ]
  },
  {
   "cell_type": "code",
   "execution_count": 169,
   "id": "84551102-7719-4ef5-8670-f5ba715323b2",
   "metadata": {},
   "outputs": [
    {
     "name": "stdout",
     "output_type": "stream",
     "text": [
      "[[ 0.6 -0.7]\n",
      " [-0.2  0.4]]\n"
     ]
    }
   ],
   "source": [
    "if determinant !=0 :\n",
    "    inverse_matrix = np.linalg.inv(a)\n",
    "    print(inverse_matrix)\n",
    "else:\n",
    "    print('Matrix is singular and doesnot have an inverse')"
   ]
  }
 ],
 "metadata": {
  "kernelspec": {
   "display_name": "Python 3 (ipykernel)",
   "language": "python",
   "name": "python3"
  },
  "language_info": {
   "codemirror_mode": {
    "name": "ipython",
    "version": 3
   },
   "file_extension": ".py",
   "mimetype": "text/x-python",
   "name": "python",
   "nbconvert_exporter": "python",
   "pygments_lexer": "ipython3",
   "version": "3.12.7"
  }
 },
 "nbformat": 4,
 "nbformat_minor": 5
}
